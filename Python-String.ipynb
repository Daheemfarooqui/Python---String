{
 "cells": [
  {
   "cell_type": "markdown",
   "id": "13d9e41b-d15b-4ae0-b001-b5bb13d29187",
   "metadata": {},
   "source": [
    "# Q1 How can we store a s1ngle quote (‘) as a str1ng 1n a var1able?"
   ]
  },
  {
   "cell_type": "markdown",
   "id": "c74af0f0-5bac-474c-9a04-c609cf55d92a",
   "metadata": {},
   "source": [
    "### A1.\n",
    "* In Python, strings ( str ) can be created by enclosing text in single quotes ' . "
   ]
  },
  {
   "cell_type": "code",
   "execution_count": 3,
   "id": "2c45d649-3e4a-4f89-bfaf-b37663c7b6bf",
   "metadata": {},
   "outputs": [
    {
     "name": "stdout",
     "output_type": "stream",
     "text": [
      "question1\n"
     ]
    }
   ],
   "source": [
    "# for example\n",
    "a='question1'\n",
    "print(a,)"
   ]
  },
  {
   "cell_type": "markdown",
   "id": "73b471c3-aeb4-4731-8b1e-3dc4480d161d",
   "metadata": {},
   "source": [
    " # Q2Refer the below var1able:\n",
    "* x = ‘a(\n",
    " * Here, is x a character type or str1ng type var1able? Support your answer w1th an explanat1on."
   ]
  },
  {
   "cell_type": "markdown",
   "id": "9fb9a3dc-6a8c-4e81-af06-071cab8912b7",
   "metadata": {},
   "source": [
    " ### A2.\n"
   ]
  },
  {
   "cell_type": "code",
   "execution_count": 6,
   "id": "9dd5393d-7002-4bf4-a512-60e0ea93f86b",
   "metadata": {},
   "outputs": [
    {
     "name": "stdout",
     "output_type": "stream",
     "text": [
      "<class 'str'>\n"
     ]
    }
   ],
   "source": [
    "x=a\n",
    "print(type(a))"
   ]
  },
  {
   "cell_type": "markdown",
   "id": "1abd7037-da1f-454c-bc5c-49710f563f2f",
   "metadata": {},
   "source": [
    "# Q3 Apply the follow1ng functions on this var1able: ‘Welcome to Python foundat1on course'\n",
    " *  find ()\n",
    " *  count()\n",
    " *  len()\n",
    " *  Concatenation()"
   ]
  },
  {
   "cell_type": "code",
   "execution_count": 38,
   "id": "72448131-8133-4389-bb19-7f1ad1c40e43",
   "metadata": {},
   "outputs": [
    {
     "name": "stdout",
     "output_type": "stream",
     "text": [
      "29 ans\n"
     ]
    }
   ],
   "source": [
    "x = 'Welcome to Python foundat1on course'\n",
    "print(x.find('course'),\"ans\")"
   ]
  },
  {
   "cell_type": "code",
   "execution_count": 37,
   "id": "bb6dd8b7-ea3a-49e5-9423-b19225367e3e",
   "metadata": {},
   "outputs": [
    {
     "name": "stdout",
     "output_type": "stream",
     "text": [
      "1 ans\n"
     ]
    }
   ],
   "source": [
    "x = 'Welcome to Python foundat1on course'\n",
    "print(x.count(\"Python\"),\"ans\")"
   ]
  },
  {
   "cell_type": "code",
   "execution_count": 36,
   "id": "77615caf-591c-4b8c-89fd-256e65bfe128",
   "metadata": {},
   "outputs": [
    {
     "name": "stdout",
     "output_type": "stream",
     "text": [
      "35 ans\n"
     ]
    }
   ],
   "source": [
    "x='Welcome to Python foundat1on course'\n",
    "print(len(x),\"ans\")"
   ]
  },
  {
   "cell_type": "code",
   "execution_count": 48,
   "id": "77f1e631-bd6a-42da-8b0f-01a37ab93100",
   "metadata": {},
   "outputs": [
    {
     "name": "stdout",
     "output_type": "stream",
     "text": [
      "Welcome to Python foundat1on course\n"
     ]
    }
   ],
   "source": [
    "x='Welcome to Python'\n",
    "y='foundat1on course'\n",
    "print(x+\" \"+y)\n"
   ]
  },
  {
   "cell_type": "markdown",
   "id": "a90dbd4b-fbb0-4a97-a5a8-1171dcec892f",
   "metadata": {},
   "source": [
    "# Q Wr1te a code to store a numer1cal value inside a var1able then convert it into string."
   ]
  },
  {
   "cell_type": "markdown",
   "id": "01e8c1a2-4973-41a1-b8ca-adc2d4cb1443",
   "metadata": {},
   "source": [
    "### A5."
   ]
  },
  {
   "cell_type": "code",
   "execution_count": 49,
   "id": "4b474aa2-ba58-4c43-89cc-2db86e174142",
   "metadata": {},
   "outputs": [
    {
     "name": "stdout",
     "output_type": "stream",
     "text": [
      "<class 'int'>\n"
     ]
    }
   ],
   "source": [
    "num=123456789\n",
    "print(type(num))"
   ]
  },
  {
   "cell_type": "code",
   "execution_count": 50,
   "id": "60a171af-0087-4014-8b5f-e9376504e795",
   "metadata": {},
   "outputs": [
    {
     "name": "stdout",
     "output_type": "stream",
     "text": [
      "<class 'str'>\n"
     ]
    }
   ],
   "source": [
    "s=str(num)\n",
    "print(type(s))"
   ]
  },
  {
   "cell_type": "code",
   "execution_count": null,
   "id": "1b57bf7f-4625-450b-be52-b082c0189b58",
   "metadata": {},
   "outputs": [],
   "source": []
  }
 ],
 "metadata": {
  "kernelspec": {
   "display_name": "Python 3 (ipykernel)",
   "language": "python",
   "name": "python3"
  },
  "language_info": {
   "codemirror_mode": {
    "name": "ipython",
    "version": 3
   },
   "file_extension": ".py",
   "mimetype": "text/x-python",
   "name": "python",
   "nbconvert_exporter": "python",
   "pygments_lexer": "ipython3",
   "version": "3.10.8"
  }
 },
 "nbformat": 4,
 "nbformat_minor": 5
}
